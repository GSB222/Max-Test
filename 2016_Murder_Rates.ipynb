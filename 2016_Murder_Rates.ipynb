{
 "cells": [
  {
   "cell_type": "code",
   "execution_count": 1,
   "id": "c9974cd2",
   "metadata": {},
   "outputs": [],
   "source": [
    "# Murders in 2016"
   ]
  },
  {
   "cell_type": "code",
   "execution_count": 2,
   "id": "481fe032",
   "metadata": {},
   "outputs": [],
   "source": [
    "chicago_murder_16 = 762\n",
    "los_angeles_murder_16 = 294\n",
    "new_york_city_murder_16 = 334\n",
    "san_jose_ca_murder_16 = 47"
   ]
  },
  {
   "cell_type": "code",
   "execution_count": 3,
   "id": "fe44b670",
   "metadata": {},
   "outputs": [],
   "source": [
    "chicago_population_16 = 270_500\n",
    "los_angeles_population_16 = 3_976_000\n",
    "new_york_city_population_16 = 8_538_000\n",
    "san_jose_ca_population_16 = 1_025_000"
   ]
  },
  {
   "cell_type": "code",
   "execution_count": 4,
   "id": "e1d9cc3f",
   "metadata": {},
   "outputs": [
    {
     "data": {
      "text/plain": [
       "281.7005545286506"
      ]
     },
     "execution_count": 4,
     "metadata": {},
     "output_type": "execute_result"
    }
   ],
   "source": [
    "chicago_murder_16 / (chicago_population_16 / 100_000) "
   ]
  },
  {
   "cell_type": "code",
   "execution_count": 5,
   "id": "9454ee63",
   "metadata": {},
   "outputs": [
    {
     "data": {
      "text/plain": [
       "7.394366197183099"
      ]
     },
     "execution_count": 5,
     "metadata": {},
     "output_type": "execute_result"
    }
   ],
   "source": [
    "los_angeles_murder_16 / (los_angeles_population_16 / 100_000)"
   ]
  },
  {
   "cell_type": "code",
   "execution_count": 6,
   "id": "8f725909",
   "metadata": {},
   "outputs": [
    {
     "data": {
      "text/plain": [
       "3.9119231670180374"
      ]
     },
     "execution_count": 6,
     "metadata": {},
     "output_type": "execute_result"
    }
   ],
   "source": [
    "new_york_city_murder_16 / (new_york_city_population_16 / 100_000)"
   ]
  },
  {
   "cell_type": "code",
   "execution_count": 7,
   "id": "34016910",
   "metadata": {},
   "outputs": [
    {
     "data": {
      "text/plain": [
       "4.585365853658536"
      ]
     },
     "execution_count": 7,
     "metadata": {},
     "output_type": "execute_result"
    }
   ],
   "source": [
    "san_jose_ca_murder_16 / (san_jose_ca_population_16 / 100_000)"
   ]
  },
  {
   "cell_type": "code",
   "execution_count": 8,
   "id": "fa6586d2",
   "metadata": {},
   "outputs": [],
   "source": [
    "chicago_m_pc_16 = chicago_murder_16 / (chicago_population_16 / 100_000) \n",
    "la_m_pc_16 = los_angeles_murder_16 / (los_angeles_population_16 / 100_000)\n",
    "nyc_m_pc_16 = new_york_city_murder_16 / (new_york_city_population_16 / 100_000)\n",
    "san_jose_m_pc_16 = san_jose_ca_murder_16 / (san_jose_ca_population_16 / 100_000)"
   ]
  },
  {
   "cell_type": "code",
   "execution_count": 9,
   "id": "d22033eb",
   "metadata": {},
   "outputs": [
    {
     "name": "stdout",
     "output_type": "stream",
     "text": [
      "Chicago is the city with the highest per capita murder rate at 281.7005545286506 per 100k and New York City has the lowest per capita murder rate 3.9119231670180374 per 100k.\n"
     ]
    }
   ],
   "source": [
    "## f-string\n",
    "print(f\"Chicago is the city with the highest per capita murder rate at \\\n",
    "{chicago_m_pc_16} per 100k and New York City has the lowest per capita murder rate {nyc_m_pc_16} per 100k.\")"
   ]
  },
  {
   "cell_type": "code",
   "execution_count": null,
   "id": "a8249aae",
   "metadata": {},
   "outputs": [],
   "source": []
  }
 ],
 "metadata": {
  "kernelspec": {
   "display_name": "Python 3 (ipykernel)",
   "language": "python",
   "name": "python3"
  },
  "language_info": {
   "codemirror_mode": {
    "name": "ipython",
    "version": 3
   },
   "file_extension": ".py",
   "mimetype": "text/x-python",
   "name": "python",
   "nbconvert_exporter": "python",
   "pygments_lexer": "ipython3",
   "version": "3.11.5"
  }
 },
 "nbformat": 4,
 "nbformat_minor": 5
}
